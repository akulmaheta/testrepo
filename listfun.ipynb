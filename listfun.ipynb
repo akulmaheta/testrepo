{
 "cells": [
  {
   "cell_type": "code",
   "execution_count": 1,
   "metadata": {},
   "outputs": [
    {
     "name": "stdout",
     "output_type": "stream",
     "text": [
      "akul\n",
      "bhavik\n",
      "sanjay\n",
      "raj\n",
      "ajay\n",
      "\n",
      " bhavik\n",
      "\n",
      " ajay \n",
      "\n",
      "5\n",
      "[1, 2, 3]\n",
      "['red', 'yellow', 'blue']\n",
      "[1, 1.2, 'hello']\n",
      "[4, [5, 6], 7]\n",
      "[]\n",
      "['akul', 'bhavik', 'sanjay', 'akash', 'ajay']\n",
      "['ajay', 'akash', 'sanjay', 'bhavik', 'akul']\n",
      "range(0, 5)\n",
      "['ajay', 'akash', 'sanjay', 'bhavik', 'akul', 'ajay', 'akash', 'sanjay', 'bhavik', 'akul']\n"
     ]
    }
   ],
   "source": [
    "friends=['akul','bhavik','sanjay','raj','ajay']      #lists are mutable    #stings are immutable\n",
    "for friend in friends:\n",
    "    print(friend)\n",
    "print('\\n',friends[1])   #aagal thi 0,1,2,3,..... aem number hoy\n",
    "print('\\n',friends[-1],'\\n')     #pachal thi -1,-2,-3,.....aem number hoy\n",
    "print(len(friends))\n",
    "print([1,2,3])\n",
    "print(['red','yellow','blue'])\n",
    "print([1,1.2,'hello'])\n",
    "print([4,[5,6],7])\n",
    "print([])   #empty list\n",
    "friends[3]='akash'    \n",
    "print(friends)\n",
    "friends.reverse()\n",
    "print(friends)\n",
    "print(range(len(friends)))\n",
    "print(friends * 2)   #repetition aane kehvay aa multiply kari de and answer ape"
   ]
  },
  {
   "cell_type": "code",
   "execution_count": 2,
   "metadata": {},
   "outputs": [
    {
     "name": "stdout",
     "output_type": "stream",
     "text": [
      "6\n",
      "[1, 2, 3, 4, 5, 6]\n",
      "[2, 3]\n",
      "7\n",
      "7\n",
      "1\n",
      "28\n",
      "4.0\n",
      "['book', '99', 'work']\n",
      "True\n"
     ]
    },
    {
     "data": {
      "text/plain": [
       "False"
      ]
     },
     "execution_count": 2,
     "metadata": {},
     "output_type": "execute_result"
    }
   ],
   "source": [
    "a=[1,2,3]\n",
    "b=[4,5,6]\n",
    "print(sum(a))   # built-in sum name nu function sum karine aapse aapne\n",
    "c=a+b      #concatenantion\n",
    "print(c)\n",
    "d=[1,2,3,4,5,6,7]\n",
    "print(d[1:3])    #slicing operator\n",
    "print(len(d))\n",
    "print(max(d))\n",
    "print(min(d))\n",
    "print(sum(d))\n",
    "print(sum(d)/len(d))\n",
    "\n",
    "stuff=list()\n",
    "stuff.append('book')    #last ma add karva\n",
    "stuff.append('99')\n",
    "stuff.append('work')\n",
    "print(stuff)\n",
    "print(5 in d)    #in operator\n",
    "9 in d"
   ]
  },
  {
   "cell_type": "code",
   "execution_count": 1,
   "metadata": {},
   "outputs": [
    {
     "name": "stdout",
     "output_type": "stream",
     "text": [
      "['ajay', 'akul', 'bhavik', 'rajan', 'sanjay', 'work']\n",
      "['ajay', 'akul', 'bhavik', 'rajan', 'sanjay', 'work']\n",
      "bhavik\n",
      "['ajay', 'akul', 'bhavik', 'sanjay', 'work']\n"
     ]
    }
   ],
   "source": [
    "friends=['akul','sanjay','bhavik','rajan','ajay','work']\n",
    "friends.sort()      #  sort returns the same list reorganized\n",
    "print(sorted(friends))   #sorted returns a new list create thay ne juni same j rahe\n",
    "print(friends)\n",
    "print(friends[2])\n",
    "friends.remove(\"rajan\")\n",
    "print(friends)"
   ]
  },
  {
   "cell_type": "code",
   "execution_count": 47,
   "metadata": {},
   "outputs": [
    {
     "name": "stdout",
     "output_type": "stream",
     "text": [
      "['my', 'name', 'is', 'akul'] \n",
      "\n",
      "my\n",
      "name\n",
      "is\n",
      "akul\n",
      "['i', 'am', 'a', 'student', 'in', 'india', 'so_what_is', 'u', 'are', 'going', 'to', 'do']\n",
      "so_what_is\n",
      "['so_what_is']\n",
      "1\n",
      "['so', 'what', 'is']\n",
      "3\n"
     ]
    }
   ],
   "source": [
    "abc=\"my name is akul\"     #this is string\n",
    "stuff=abc.split()     #built-in function split alag alag kare string ne\n",
    "print(stuff,\"\\n\")\n",
    "for w in stuff:\n",
    "    print(w)\n",
    "    \n",
    "    \n",
    "a='i am a student in india so_what_is u are going to do'\n",
    "akul=a.split()\n",
    "print(akul)\n",
    "are=akul[6]\n",
    "print(are)\n",
    "qwe=are.split()\n",
    "print(qwe)\n",
    "print(len(qwe))\n",
    "poi=are.split('_')\n",
    "print(poi)\n",
    "print(len(poi))"
   ]
  },
  {
   "cell_type": "code",
   "execution_count": 5,
   "metadata": {},
   "outputs": [
    {
     "name": "stdout",
     "output_type": "stream",
     "text": [
      "['app', 'os', 'api', 'osi', 'lol']\n",
      "['bye', 'app', 'os', 'api', 'osi', 'lol']\n",
      "['bye', 'app', 'os', 'api', 'osi', 'lol', 'hello']\n",
      "['bye', 'app', 'api', 'osi', 'lol', 'hello']\n"
     ]
    },
    {
     "data": {
      "text/plain": [
       "<function list.clear()>"
      ]
     },
     "execution_count": 5,
     "metadata": {},
     "output_type": "execute_result"
    }
   ],
   "source": [
    "a=['app','os','api','osi','lol']\n",
    "print(a)\n",
    "a.insert(0,'bye')\n",
    "print(a)\n",
    "a.insert(25,'hello')   #index  dur ni aapso to bhi add karse\n",
    "print(a)\n",
    "a.pop(2)\n",
    "print(a)\n",
    "del a[0]\n",
    "#del a # delete entire list\n",
    "a.clear #list akhi clear kare "
   ]
  },
  {
   "cell_type": "code",
   "execution_count": 6,
   "metadata": {},
   "outputs": [
    {
     "name": "stdout",
     "output_type": "stream",
     "text": [
      "[7, 14, 21, 28, 35, 42, 49, 56, 63, 70]\n",
      "[7, 14, 21, 28, 35, 42, 49, 56, 63, 70]\n"
     ]
    }
   ],
   "source": [
    "multiples = []\n",
    "for x in range(1,11):\n",
    "    multiples.append(x*7)\n",
    "\n",
    "print(multiples)\n",
    "\n",
    "multiples =[x*7 for x in range(1,11)]    #list comphrehension easy & fast\n",
    "print(multiples)"
   ]
  },
  {
   "cell_type": "code",
   "execution_count": 8,
   "metadata": {},
   "outputs": [
    {
     "name": "stdout",
     "output_type": "stream",
     "text": [
      "[6, 4, 1, 3, 4]\n",
      "[0, 3, 6, 9, 12, 15, 18, 21, 24, 27, 30, 33, 36, 39, 42, 45, 48, 51, 54, 57, 60, 63, 66, 69, 72, 75, 78, 81, 84, 87, 90, 93, 96, 99]\n"
     ]
    }
   ],
   "source": [
    "languages = ['python','ruby','c','c++','java']\n",
    "length = [len(language) for language in languages]\n",
    "print(length)\n",
    "\n",
    "\n",
    "z=[x for x in range(0,101) if x % 3 == 0]\n",
    "print(z)"
   ]
  },
  {
   "cell_type": "code",
   "execution_count": 4,
   "metadata": {},
   "outputs": [
    {
     "name": "stdout",
     "output_type": "stream",
     "text": [
      "['Ray', 'Alex', 'kelly', 'Carlos']\n",
      "1\n",
      "0\n",
      "2\n"
     ]
    }
   ],
   "source": [
    "names=['Carlos','Ray','Alex','kelly']\n",
    "print(sorted(names, key=len))\n",
    "\n",
    "print(names.count(\"Ray\"))\n",
    "print(names.count(\"a\"))   # perticular 'a' find karse but malse nahi so 0 is answer\n",
    "print(names.index(\"Alex\"))   #index aagal first ave ae j jove pachal vala ne nahi bcz left thi start thay"
   ]
  },
  {
   "cell_type": "code",
   "execution_count": 6,
   "metadata": {},
   "outputs": [
    {
     "name": "stdout",
     "output_type": "stream",
     "text": [
      "redyoyelloyogreenyoorange\n"
     ]
    }
   ],
   "source": [
    "wit = [\"red\",\"yello\",\"green\",\"orange\"]\n",
    "glue = \"yo\"\n",
    "s = glue.join(wit)\n",
    "print(s)"
   ]
  },
  {
   "cell_type": "code",
   "execution_count": 4,
   "metadata": {},
   "outputs": [
    {
     "name": "stdout",
     "output_type": "stream",
     "text": [
      "['akul', 1.2, 176, [12.2, 49], 'bhy']\n"
     ]
    }
   ],
   "source": [
    "L = [\"akul\",1.2,176]\n",
    "L.append([12.2,49])\n",
    "L.append(\"bhy\")\n",
    "print(L)"
   ]
  },
  {
   "cell_type": "code",
   "execution_count": 6,
   "metadata": {},
   "outputs": [
    {
     "name": "stdout",
     "output_type": "stream",
     "text": [
      "['aku', 'ert', 23, 45.6]\n",
      "['aku', 'ert', 23, 45.6]\n",
      "['bhavik', 'ert', 23, 45.6]\n",
      "['bhavik', 'ert', 23, 45.6]\n"
     ]
    }
   ],
   "source": [
    "name = [\"aku\",\"ert\",23,45.6]\n",
    "a= name    # aliasing aane kehvay bija ni value bija ne aapvi same j\n",
    "print(name)\n",
    "print(a)\n",
    "name[0]=\"bhavik\"\n",
    "print(name)           # aana name ni value change karo aetle a ma bhi change thay bcz of mutable\n",
    "print(a)"
   ]
  },
  {
   "cell_type": "code",
   "execution_count": 9,
   "metadata": {},
   "outputs": [
    {
     "name": "stdout",
     "output_type": "stream",
     "text": [
      "['nice', 1, 2.4]\n",
      "['nice', 1, 2.4]\n",
      "['bhavik', 1, 2.4]\n",
      "['nice', 1, 2.4]\n"
     ]
    }
   ],
   "source": [
    "name = [\"nice\",1,2.4]\n",
    "a = name[:]     # clown banavyo ahi a ne name no\n",
    "print(name)\n",
    "print(a)\n",
    "name[0] = \"bhavik\"\n",
    "print(name)   #aama name ni value change karo to bhi a ma change nahi aave\n",
    "print(a)"
   ]
  },
  {
   "cell_type": "code",
   "execution_count": null,
   "metadata": {},
   "outputs": [],
   "source": []
  }
 ],
 "metadata": {
  "kernelspec": {
   "display_name": "Python 3",
   "language": "python",
   "name": "python3"
  },
  "language_info": {
   "codemirror_mode": {
    "name": "ipython",
    "version": 3
   },
   "file_extension": ".py",
   "mimetype": "text/x-python",
   "name": "python",
   "nbconvert_exporter": "python",
   "pygments_lexer": "ipython3",
   "version": "3.7.6"
  }
 },
 "nbformat": 4,
 "nbformat_minor": 4
}
